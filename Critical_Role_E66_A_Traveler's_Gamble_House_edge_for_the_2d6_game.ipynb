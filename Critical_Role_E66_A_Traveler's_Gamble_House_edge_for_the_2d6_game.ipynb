{
  "nbformat": 4,
  "nbformat_minor": 0,
  "metadata": {
    "colab": {
      "name": "Critical Role E66: A Traveler's Gamble. House edge for the 2d6 game",
      "provenance": [],
      "collapsed_sections": [],
      "authorship_tag": "ABX9TyMxdV5H0z73z9hMY++Weq5L",
      "include_colab_link": true
    },
    "kernelspec": {
      "name": "python3",
      "display_name": "Python 3"
    }
  },
  "cells": [
    {
      "cell_type": "markdown",
      "metadata": {
        "id": "view-in-github",
        "colab_type": "text"
      },
      "source": [
        "<a href=\"https://colab.research.google.com/github/onishchenkoar/dungeons-and-dragons-and-probability/blob/main/Critical_Role_E66_A_Traveler's_Gamble_House_edge_for_the_2d6_game.ipynb\" target=\"_parent\"><img src=\"https://colab.research.google.com/assets/colab-badge.svg\" alt=\"Open In Colab\"/></a>"
      ]
    },
    {
      "cell_type": "markdown",
      "metadata": {
        "id": "FU72J3KZ_WlM"
      },
      "source": [
        "# Critical Role E66: A Traveler's Gamble. House edge for the 2d6 game\n",
        "\n",
        "In episode 66 of Critical Role, [there is a dice game](https://youtu.be/jgmBV5NA2A8?t=8347) called Avandra's Favor: make a bet, roll 2d6; if you have 7 or 12 &mdash; you win, if you have anything else &mdash; you either lose the bet or can double the bet and roll an additional d6 &mdash; for the same winning numbers. Below is a code snippet that finds the best betting strategy and calculates [house edge](https://en.wikipedia.org/wiki/Gambling_mathematics#House_advantage_or_edge) of the game."
      ]
    },
    {
      "cell_type": "code",
      "metadata": {
        "colab": {
          "base_uri": "https://localhost:8080/"
        },
        "id": "AqTu66ELBpvb",
        "outputId": "10d5cd5e-707e-4860-a795-a5e874c8313c"
      },
      "source": [
        "import itertools\n",
        "\n",
        "import numpy as np\n",
        "\n",
        "WINNING_NUMBERS = {7, 12}\n",
        "\n",
        "# Build a probability distribution of 2d6 roll:\n",
        "dist2d6 = np.convolve([1/6]*6, [1/6]*6)\n",
        "dist2d6 = np.concatenate(([0, 0], dist2d6))\n",
        "values_after_1st_round = set(range(2, 13)) - WINNING_NUMBERS\n",
        "\n",
        "# Find conditional probabilities of success in the second round:\n",
        "second_round_conditionals = np.zeros_like(dist2d6)\n",
        "for value in values_after_1st_round:\n",
        "  for i in range(1, 7):\n",
        "    if value + i in WINNING_NUMBERS:\n",
        "      second_round_conditionals[value] += 1\n",
        "second_round_conditionals = second_round_conditionals / 6\n",
        "\n",
        "p_win_1st_round = sum(x for x in dist2d6[list(WINNING_NUMBERS)])\n",
        "best_comb = []\n",
        "best_expectation = p_win_1st_round - (1 - p_win_1st_round)\n",
        "worst_comb = []\n",
        "worst_expectation = p_win_1st_round - (1 - p_win_1st_round)\n",
        "consistency_check = []\n",
        "\n",
        "# Exhaustive search for numbers you should double down after the first round:\n",
        "for r in range(1, len(values_after_1st_round) + 1):\n",
        "  for raise_on in itertools.combinations(values_after_1st_round, r):\n",
        "    dont_raise_on = list(values_after_1st_round - set(raise_on))\n",
        "    raise_on = list(raise_on)\n",
        "    p_lose_1st_round = sum(dist2d6[dont_raise_on])\n",
        "    p_win_2nd_round = np.dot(second_round_conditionals[raise_on],\n",
        "                              dist2d6[raise_on])\n",
        "    p_lose_2nd_round = np.dot(1 - second_round_conditionals[raise_on],\n",
        "                              dist2d6[raise_on])\n",
        "    \n",
        "    expectation = p_win_1st_round + 2*p_win_2nd_round \\\n",
        "                  - p_lose_1st_round - 2*p_lose_2nd_round\n",
        "    if expectation > best_expectation:\n",
        "      best_comb = raise_on\n",
        "      best_expectation = expectation\n",
        "\n",
        "    if expectation < worst_expectation:\n",
        "      worst_comb = raise_on\n",
        "      worst_expectation = expectation\n",
        "    \n",
        "    consistency_check.append(abs(p_win_1st_round\n",
        "                                 + p_lose_1st_round\n",
        "                                 + p_win_2nd_round\n",
        "                                 + p_lose_2nd_round - 1) < 1e-12)\n",
        "\n",
        "print('Sum of probabilities == 1:', all(consistency_check))\n",
        "print()\n",
        "print('Best for player:', best_comb, best_expectation)\n",
        "print('Worst for player:', worst_comb, worst_expectation)"
      ],
      "execution_count": 5,
      "outputs": [
        {
          "output_type": "stream",
          "text": [
            "Sum of probabilities == 1: True\n",
            "\n",
            "Best for player: [6] -0.5648148148148148\n",
            "Worst for player: [2, 3, 4, 5, 8, 9, 10, 11] -0.8333333333333334\n"
          ],
          "name": "stdout"
        }
      ]
    },
    {
      "cell_type": "markdown",
      "metadata": {
        "id": "hadT_Q_RNJcG"
      },
      "source": [
        "This result means, that the best strategy for a player would be to raise the bet only when he has 6 in the first round, and the worst is to raise the bet on any other number. This game is terrible for the player: with the best strategy house edge is 56% (83% with the worst). This means that, in the long run, casino will pocket 56% of player's money. For example, [here](https://wizardofodds.com/gambling/house-edge/) is a list of games with their correspondent house edge. 33.33% is the highest house edge on the list. Avandra's Favor is, basically, a robbery."
      ]
    },
    {
      "cell_type": "markdown",
      "metadata": {
        "id": "7qhqAX9sQZ95"
      },
      "source": [
        "## Can this game be better?\n",
        "One simple way to improve the odds of the player is to add some more winning numbers. By changing `WINNING_NUMBERS` in the code, I have found that if a player wins on 3, 7, 9, 12, the house edge is 1.8%, which has at least an illusion of fairness."
      ]
    }
  ]
}