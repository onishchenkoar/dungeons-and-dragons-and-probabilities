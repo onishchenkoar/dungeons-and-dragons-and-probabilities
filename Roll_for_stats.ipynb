{
  "nbformat": 4,
  "nbformat_minor": 0,
  "metadata": {
    "colab": {
      "name": "Roll for stats",
      "provenance": [],
      "authorship_tag": "ABX9TyMKZvV9tgrts5Vxxsy+Xxrj"
    },
    "kernelspec": {
      "name": "python3",
      "display_name": "Python 3"
    },
    "language_info": {
      "name": "python"
    }
  },
  "cells": [
    {
      "cell_type": "markdown",
      "metadata": {
        "id": "SSaYj2kEKu-P"
      },
      "source": [
        "# Roll for stats"
      ]
    },
    {
      "cell_type": "markdown",
      "metadata": {
        "id": "DrhQPywKLEtI"
      },
      "source": [
        "*Player's Handbook* for DnD 5e describes a method of determining your character's ability scores (p. 13):\n",
        "> You generate your character's six ability scores\n",
        "randomly. Roll four 6-sided dice and record the total of\n",
        "the highest three dice on a piece of scratch paper. Do\n",
        "this five more times, so that you have six numbers.\n",
        "\n",
        "Let's find out the distribution for this roll. Since I couldn't come up with an analytic solution, I'm going to brute-force through all possible combinations of 4 rolls of 6-sided dice."
      ]
    },
    {
      "cell_type": "code",
      "metadata": {
        "colab": {
          "base_uri": "https://localhost:8080/",
          "height": 479
        },
        "id": "xuYHMEKZChjH",
        "outputId": "13d3f84b-2134-4600-ea9c-bdf96d5f49de"
      },
      "source": [
        "from itertools import product\n",
        "\n",
        "from matplotlib import pyplot as plt\n",
        "import numpy as np\n",
        "import seaborn as sns\n",
        "\n",
        "\n",
        "sns.set()\n",
        "\n",
        "sums = [sum(sorted(roll)[1:]) for roll in product(range(1, 7), repeat=4)]\n",
        "values, counts = np.unique(sums, return_counts=True)\n",
        "freqs = counts / sum(counts)\n",
        "\n",
        "plt.figure(figsize=(10, 7))\n",
        "sns.barplot(x=values, y=freqs, color='b')\n",
        "plt.xlabel('Roll')\n",
        "plt.ylabel('Relative frequency')\n",
        "plt.title(f'Distribution of sums for \"roll 4d6; drop the lowest\"\\n'\n",
        "          f'(the mean is {values.dot(freqs):.2f})'\n",
        ")\n",
        "plt.show()"
      ],
      "execution_count": 1,
      "outputs": [
        {
          "output_type": "display_data",
          "data": {
            "image/png": "[encoded data removed]",
            "text/plain": [
              "<Figure size 720x504 with 1 Axes>"
            ]
          },
          "metadata": {
            "tags": []
          }
        }
      ]
    },
    {
      "cell_type": "markdown",
      "metadata": {
        "id": "3RKlxa8XT88D"
      },
      "source": [
        "And there you go: the most likely roll is 13, the most unlikely is 3 (you have to roll all ones)."
      ]
    },
    {
      "cell_type": "markdown",
      "metadata": {
        "id": "0yMXqDfUWtsu"
      },
      "source": [
        "Let's also calculate the probability of rolling 18 at least once."
      ]
    },
    {
      "cell_type": "code",
      "metadata": {
        "colab": {
          "base_uri": "https://localhost:8080/"
        },
        "id": "U4OB5D01VcVm",
        "outputId": "4f3bddf2-eeca-418e-d247-2488d65e4172"
      },
      "source": [
        "p_18 = freqs[-1]\n",
        "print(f'Probability of rolling 18 at least once: {1 - (1 - p_18)**6:.3f}')"
      ],
      "execution_count": 2,
      "outputs": [
        {
          "output_type": "stream",
          "text": [
            "Probability of rolling 18 at least once: 0.093\n"
          ],
          "name": "stdout"
        }
      ]
    },
    {
      "cell_type": "markdown",
      "metadata": {
        "id": "nQ4twwAlYXRA"
      },
      "source": [
        "Using Point buy (an alternative system of assigning ability scores) 15 is the highest score you can get. Let's calculate the probability of rolling higher than 15 at least once."
      ]
    },
    {
      "cell_type": "code",
      "metadata": {
        "colab": {
          "base_uri": "https://localhost:8080/"
        },
        "id": "rYLEX1r9Xhp-",
        "outputId": "98e38d46-6969-4709-db97-56af0533e81c"
      },
      "source": [
        "p_16_18 = sum(freqs[-3:])\n",
        "print(f'Probability of rolling a number from 16 to 18 at least once: {1 - (1 - p_16_18)**6:.3f}')"
      ],
      "execution_count": 3,
      "outputs": [
        {
          "output_type": "stream",
          "text": [
            "Probability of rolling a number from 16 to 18 at least once: 0.568\n"
          ],
          "name": "stdout"
        }
      ]
    }
  ]
}