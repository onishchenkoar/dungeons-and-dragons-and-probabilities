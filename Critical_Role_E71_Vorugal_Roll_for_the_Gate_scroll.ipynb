{
  "nbformat": 4,
  "nbformat_minor": 0,
  "metadata": {
    "colab": {
      "name": "Critical Role E71: Vorugal. Roll for the Gate scroll",
      "provenance": [],
      "authorship_tag": "ABX9TyO61U2SssP3lIoA6Tjxlq/s",
      "include_colab_link": true
    },
    "kernelspec": {
      "name": "python3",
      "display_name": "Python 3"
    }
  },
  "cells": [
    {
      "cell_type": "markdown",
      "metadata": {
        "id": "view-in-github",
        "colab_type": "text"
      },
      "source": [
        "<a href=\"https://colab.research.google.com/github/onishchenkoar/dungeons-and-dragons-and-probability/blob/main/Critical_Role_E71_Vorugal_Roll_for_the_Gate_scroll.ipynb\" target=\"_parent\"><img src=\"https://colab.research.google.com/assets/colab-badge.svg\" alt=\"Open In Colab\"/></a>"
      ]
    },
    {
      "cell_type": "markdown",
      "metadata": {
        "id": "ClEyYNcO3tbW"
      },
      "source": [
        "# Critical Role E71: Vorugal. Roll for the Gate scroll\n",
        "\n",
        "There is [a scene](https://youtu.be/-I_tnzBKSWk?t=8507) in episode 71 of Critical Role, where Scanlan has to summon a [goristro](https://criticalrole.fandom.com/wiki/Goristro) using a Gate scroll. The Dungeon master forces a player to roll a charisma (Scanlan's spellcasting stat) check against difficulty class of 19. This is a tense moment, because the goristro is crucial to their plan and they only have one shot at it. Scanlan rolls 20, and everyone is relieved.\n",
        "\n",
        "What is interesting to me is how to everyone (including me) it felt like Scanlan has pulled it off by the skin of his teeth. Here is a short snippet of code that estimates the odds of succeeding on a d20 roll with advantage + d12 from Inspiration + a modifier of 8. "
      ]
    },
    {
      "cell_type": "code",
      "metadata": {
        "colab": {
          "base_uri": "https://localhost:8080/",
          "height": 347
        },
        "id": "NNtceXTfc2el",
        "outputId": "adde6e43-73cf-44fc-8ac6-54c5816f2c74"
      },
      "source": [
        "import numpy as np\n",
        "from matplotlib import pyplot as plt\n",
        "\n",
        "# d20 with advantage + 1d12\n",
        "freqs = np.convolve([(2*i - 1) / 400 for i in range(1, 21)], [1/12] * 12)\n",
        "# 2-32 is the range of (d20 with advantage + 1d12), 8 is a modifier\n",
        "roll_range = np.arange(2, 33) + 8\n",
        "fail = np.where(roll_range < 19)\n",
        "success = np.where(roll_range >= 19)\n",
        "\n",
        "plt.bar(roll_range[fail], freqs[fail], color='red', label='Fail')\n",
        "plt.bar(roll_range[success], freqs[success], label='Success')\n",
        "plt.title('8 + d20 with advantage + 1d12')\n",
        "plt.xlabel('Roll result')\n",
        "plt.ylabel('Probability of roll')\n",
        "plt.legend()\n",
        "plt.savefig('distr.png')\n",
        "print('Probability of a successful roll:', sum(freqs[success]))\n",
        "print('Expected value of the roll', np.dot(roll_range, freqs))\n",
        "print()"
      ],
      "execution_count": null,
      "outputs": [
        {
          "output_type": "stream",
          "text": [
            "Probability of a successful roll: 0.940625\n",
            "Expected value of the roll 28.325\n",
            "\n"
          ],
          "name": "stdout"
        },
        {
          "output_type": "display_data",
          "data": {
            "image/png": "[encoded data removed]",
            "text/plain": [
              "<Figure size 432x288 with 1 Axes>"
            ]
          },
          "metadata": {
            "tags": [],
            "needs_background": "light"
          }
        }
      ]
    },
    {
      "cell_type": "markdown",
      "metadata": {
        "id": "m1luqVRN9O-s"
      },
      "source": [
        "Well, there we go. Or I can represent it differently."
      ]
    },
    {
      "cell_type": "code",
      "metadata": {
        "id": "i3kggKuCdHCj",
        "colab": {
          "base_uri": "https://localhost:8080/",
          "height": 270
        },
        "outputId": "6e80df9f-478b-4489-bdf8-4b4b11b6dc4c"
      },
      "source": [
        "plt.bar([1,], [0.06,], color='red', label='Fail')\n",
        "plt.bar([2,], [0.94,], label='Success')\n",
        "plt.legend()\n",
        "plt.xticks([])\n",
        "plt.title('8 + d20 with advantage + 1d12')\n",
        "plt.ylabel('Probability of outcome')\n",
        "plt.show()"
      ],
      "execution_count": null,
      "outputs": [
        {
          "output_type": "display_data",
          "data": {
            "image/png": "[encoded data removed]",
            "text/plain": [
              "<Figure size 432x288 with 1 Axes>"
            ]
          },
          "metadata": {
            "tags": [],
            "needs_background": "light"
          }
        }
      ]
    },
    {
      "cell_type": "markdown",
      "metadata": {
        "id": "YxGMb2sW9kYL"
      },
      "source": [
        "With 94% probability of succeeding, this is almost the same as rolling d20 where you succeed on every number except 1. Which is not that scary. "
      ]
    }
  ]
}